{
 "cells": [
  {
   "cell_type": "code",
   "execution_count": 4,
   "id": "f760f662",
   "metadata": {},
   "outputs": [],
   "source": [
    "import numpy as np\n",
    "import pandas as pd\n",
    "data=pd.read_csv(\"play_tennis.csv\")\n",
    "inp=data.iloc[:,1:5:1]\n",
    "out=data.iloc[:,-1]"
   ]
  },
  {
   "cell_type": "code",
   "execution_count": 5,
   "id": "2f542ff1",
   "metadata": {},
   "outputs": [],
   "source": [
    "from sklearn.model_selection import train_test_split"
   ]
  },
  {
   "cell_type": "code",
   "execution_count": 6,
   "id": "26ad9938",
   "metadata": {},
   "outputs": [],
   "source": [
    "inp_train,inp_test,out_train,out_test=train_test_split(inp,out,test_size=0.25,random_state=25)"
   ]
  },
  {
   "cell_type": "code",
   "execution_count": 7,
   "id": "410793a2",
   "metadata": {},
   "outputs": [
    {
     "name": "stdout",
     "output_type": "stream",
     "text": [
      "0.6428571428571429\n",
      "0.35714285714285715\n"
     ]
    }
   ],
   "source": [
    "play_yes=data[data[\"play\"]==\"Yes\"]\n",
    "yes_prob=len(play_yes)/len(data)\n",
    "play_no=data[data[\"play\"]==\"No\"]\n",
    "no_prob=len(play_no)/len(data)\n",
    "print(yes_prob)\n",
    "print(no_prob)"
   ]
  },
  {
   "cell_type": "code",
   "execution_count": 8,
   "id": "712a747a",
   "metadata": {},
   "outputs": [
    {
     "data": {
      "text/html": [
       "<div>\n",
       "<style scoped>\n",
       "    .dataframe tbody tr th:only-of-type {\n",
       "        vertical-align: middle;\n",
       "    }\n",
       "\n",
       "    .dataframe tbody tr th {\n",
       "        vertical-align: top;\n",
       "    }\n",
       "\n",
       "    .dataframe thead th {\n",
       "        text-align: right;\n",
       "    }\n",
       "</style>\n",
       "<table border=\"1\" class=\"dataframe\">\n",
       "  <thead>\n",
       "    <tr style=\"text-align: right;\">\n",
       "      <th></th>\n",
       "      <th>outlook</th>\n",
       "      <th>temp</th>\n",
       "      <th>humidity</th>\n",
       "      <th>wind</th>\n",
       "    </tr>\n",
       "  </thead>\n",
       "  <tbody>\n",
       "    <tr>\n",
       "      <th>11</th>\n",
       "      <td>Overcast</td>\n",
       "      <td>Mild</td>\n",
       "      <td>High</td>\n",
       "      <td>Strong</td>\n",
       "    </tr>\n",
       "    <tr>\n",
       "      <th>1</th>\n",
       "      <td>Sunny</td>\n",
       "      <td>Hot</td>\n",
       "      <td>High</td>\n",
       "      <td>Strong</td>\n",
       "    </tr>\n",
       "    <tr>\n",
       "      <th>12</th>\n",
       "      <td>Overcast</td>\n",
       "      <td>Hot</td>\n",
       "      <td>Normal</td>\n",
       "      <td>Weak</td>\n",
       "    </tr>\n",
       "    <tr>\n",
       "      <th>13</th>\n",
       "      <td>Rain</td>\n",
       "      <td>Mild</td>\n",
       "      <td>High</td>\n",
       "      <td>Strong</td>\n",
       "    </tr>\n",
       "    <tr>\n",
       "      <th>8</th>\n",
       "      <td>Sunny</td>\n",
       "      <td>Cool</td>\n",
       "      <td>Normal</td>\n",
       "      <td>Weak</td>\n",
       "    </tr>\n",
       "    <tr>\n",
       "      <th>2</th>\n",
       "      <td>Overcast</td>\n",
       "      <td>Hot</td>\n",
       "      <td>High</td>\n",
       "      <td>Weak</td>\n",
       "    </tr>\n",
       "    <tr>\n",
       "      <th>7</th>\n",
       "      <td>Sunny</td>\n",
       "      <td>Mild</td>\n",
       "      <td>High</td>\n",
       "      <td>Weak</td>\n",
       "    </tr>\n",
       "    <tr>\n",
       "      <th>6</th>\n",
       "      <td>Overcast</td>\n",
       "      <td>Cool</td>\n",
       "      <td>Normal</td>\n",
       "      <td>Strong</td>\n",
       "    </tr>\n",
       "    <tr>\n",
       "      <th>10</th>\n",
       "      <td>Sunny</td>\n",
       "      <td>Mild</td>\n",
       "      <td>Normal</td>\n",
       "      <td>Strong</td>\n",
       "    </tr>\n",
       "    <tr>\n",
       "      <th>4</th>\n",
       "      <td>Rain</td>\n",
       "      <td>Cool</td>\n",
       "      <td>Normal</td>\n",
       "      <td>Weak</td>\n",
       "    </tr>\n",
       "  </tbody>\n",
       "</table>\n",
       "</div>"
      ],
      "text/plain": [
       "     outlook  temp humidity    wind\n",
       "11  Overcast  Mild     High  Strong\n",
       "1      Sunny   Hot     High  Strong\n",
       "12  Overcast   Hot   Normal    Weak\n",
       "13      Rain  Mild     High  Strong\n",
       "8      Sunny  Cool   Normal    Weak\n",
       "2   Overcast   Hot     High    Weak\n",
       "7      Sunny  Mild     High    Weak\n",
       "6   Overcast  Cool   Normal  Strong\n",
       "10     Sunny  Mild   Normal  Strong\n",
       "4       Rain  Cool   Normal    Weak"
      ]
     },
     "execution_count": 8,
     "metadata": {},
     "output_type": "execute_result"
    }
   ],
   "source": [
    "inp_train"
   ]
  },
  {
   "cell_type": "code",
   "execution_count": 9,
   "id": "bacb4574",
   "metadata": {},
   "outputs": [
    {
     "data": {
      "text/plain": [
       "array(['Sunny', 'Overcast', 'Rain'], dtype=object)"
      ]
     },
     "execution_count": 9,
     "metadata": {},
     "output_type": "execute_result"
    }
   ],
   "source": [
    "out_uniq=data[\"outlook\"].unique()\n",
    "temp_uniq=data[\"temp\"].unique()\n",
    "hum_uniq=data[\"humidity\"].unique()\n",
    "wind_uniq=data[\"wind\"].unique()\n",
    "out_uniq"
   ]
  },
  {
   "cell_type": "code",
   "execution_count": 10,
   "id": "cb80cef6",
   "metadata": {},
   "outputs": [
    {
     "data": {
      "text/plain": [
       "([0.2222222222222222, 0.4444444444444444, 0.3333333333333333], [0.6, 0.0, 0.4])"
      ]
     },
     "execution_count": 10,
     "metadata": {},
     "output_type": "execute_result"
    }
   ],
   "source": [
    "out_yes_prob,out_no_prob=[],[]\n",
    "for i in out_uniq:\n",
    "    out_yes_prob.append(len(play_yes[play_yes[\"outlook\"]==i])/len(play_yes))\n",
    "    out_no_prob.append(len(play_no[play_no[\"outlook\"]==i])/len(play_no))\n",
    "out_yes_prob,out_no_prob"
   ]
  },
  {
   "cell_type": "code",
   "execution_count": 11,
   "id": "4800b6cc",
   "metadata": {},
   "outputs": [
    {
     "data": {
      "text/plain": [
       "([0.3333333333333333, 0.6666666666666666], [0.8, 0.2])"
      ]
     },
     "execution_count": 11,
     "metadata": {},
     "output_type": "execute_result"
    }
   ],
   "source": [
    "hum_yes_prob,hum_no_prob=[],[]\n",
    "for i in hum_uniq:\n",
    "    hum_yes_prob.append(len(play_yes[play_yes[\"humidity\"]==i])/len(play_yes))\n",
    "    hum_no_prob.append(len(play_no[play_no[\"humidity\"]==i])/len(play_no))\n",
    "hum_yes_prob,hum_no_prob"
   ]
  },
  {
   "cell_type": "code",
   "execution_count": 12,
   "id": "581690fb",
   "metadata": {},
   "outputs": [
    {
     "data": {
      "text/plain": [
       "([0.2222222222222222, 0.4444444444444444, 0.3333333333333333], [0.4, 0.4, 0.2])"
      ]
     },
     "execution_count": 12,
     "metadata": {},
     "output_type": "execute_result"
    }
   ],
   "source": [
    "temp_yes_prob,temp_no_prob=[],[]\n",
    "for i in temp_uniq:\n",
    "    temp_yes_prob.append(len(play_yes[play_yes[\"temp\"]==i])/len(play_yes))\n",
    "    temp_no_prob.append(len(play_no[play_no[\"temp\"]==i])/len(play_no))\n",
    "temp_yes_prob,temp_no_prob"
   ]
  },
  {
   "cell_type": "code",
   "execution_count": 13,
   "id": "4d9cbb12",
   "metadata": {},
   "outputs": [
    {
     "data": {
      "text/plain": [
       "([0.6666666666666666, 0.3333333333333333], [0.4, 0.6])"
      ]
     },
     "execution_count": 13,
     "metadata": {},
     "output_type": "execute_result"
    }
   ],
   "source": [
    "wind_yes_prob,wind_no_prob=[],[]\n",
    "for i in wind_uniq:\n",
    "    wind_yes_prob.append(len(play_yes[play_yes[\"wind\"]==i])/len(play_yes))\n",
    "    wind_no_prob.append(len(play_no[play_no[\"wind\"]==i])/len(play_no))\n",
    "wind_yes_prob,wind_no_prob"
   ]
  },
  {
   "cell_type": "code",
   "execution_count": 14,
   "id": "017d55c2",
   "metadata": {},
   "outputs": [
    {
     "data": {
      "text/plain": [
       "{'p(sunny/yes)': 0.2222222222222222,\n",
       " 'p(overcast/yes)': 0.4444444444444444,\n",
       " 'p(rainy/yes)': 0.3333333333333333,\n",
       " 'p(sunny/no)': 0.6,\n",
       " 'p(overcast/no)': 0.0,\n",
       " 'p(rainy/no)': 0.3333333333333333}"
      ]
     },
     "execution_count": 14,
     "metadata": {},
     "output_type": "execute_result"
    }
   ],
   "source": [
    "outlook_dict={'p(sunny/yes)':out_yes_prob[0],'p(overcast/yes)':out_yes_prob[1],'p(rainy/yes)':out_yes_prob[2],'p(sunny/no)':out_no_prob[0],'p(overcast/no)':out_no_prob[1],'p(rainy/no)':out_yes_prob[2]}\n",
    "outlook_dict"
   ]
  },
  {
   "cell_type": "code",
   "execution_count": 16,
   "id": "7c0f6dfc",
   "metadata": {},
   "outputs": [
    {
     "data": {
      "text/plain": [
       "{'p(hot/yes)': 0.2222222222222222,\n",
       " 'p(mild/yes)': 0.4444444444444444,\n",
       " 'p(cool/yes)': 0.3333333333333333,\n",
       " 'p(hot/no)': 0.4,\n",
       " 'p(mild/no)': 0.4,\n",
       " 'p(cool/no)': 0.3333333333333333}"
      ]
     },
     "execution_count": 16,
     "metadata": {},
     "output_type": "execute_result"
    }
   ],
   "source": [
    "temp_dict={'p(hot/yes)':temp_yes_prob[0],'p(mild/yes)':temp_yes_prob[1],'p(cool/yes)':temp_yes_prob[2],'p(hot/no)':temp_no_prob[0],'p(mild/no)':temp_no_prob[1],'p(cool/no)':temp_yes_prob[2]}\n",
    "temp_dict"
   ]
  },
  {
   "cell_type": "code",
   "execution_count": 17,
   "id": "b182076b",
   "metadata": {},
   "outputs": [
    {
     "data": {
      "text/plain": [
       "{'p(high/yes)': 0.3333333333333333,\n",
       " 'p(normal/yes)': 0.6666666666666666,\n",
       " 'p(high/no)': 0.8,\n",
       " 'p(normal/no)': 0.2}"
      ]
     },
     "execution_count": 17,
     "metadata": {},
     "output_type": "execute_result"
    }
   ],
   "source": [
    "hum_dict={'p(high/yes)':hum_yes_prob[0],'p(normal/yes)':hum_yes_prob[1],'p(high/no)':hum_no_prob[0],'p(normal/no)':hum_no_prob[1]}\n",
    "hum_dict"
   ]
  },
  {
   "cell_type": "code",
   "execution_count": 51,
   "id": "8938f2f8",
   "metadata": {},
   "outputs": [
    {
     "data": {
      "text/plain": [
       "{'p(strong/yes)': 0.6666666666666666,\n",
       " 'p(weak/yes)': 0.3333333333333333,\n",
       " 'p(strong/no)': 0.4,\n",
       " 'p(weak/no)': 0.6}"
      ]
     },
     "execution_count": 51,
     "metadata": {},
     "output_type": "execute_result"
    }
   ],
   "source": [
    "wind_dict={'p(strong/yes)':wind_yes_prob[0],'p(weak/yes)':wind_yes_prob[1],'p(strong/no)':wind_no_prob[0],'p(weak/no)':wind_no_prob[1]}\n",
    "wind_dict"
   ]
  },
  {
   "cell_type": "code",
   "execution_count": 52,
   "id": "4f020488",
   "metadata": {},
   "outputs": [
    {
     "data": {
      "text/plain": [
       "0     No\n",
       "9    Yes\n",
       "3    Yes\n",
       "5     No\n",
       "Name: play, dtype: object"
      ]
     },
     "execution_count": 52,
     "metadata": {},
     "output_type": "execute_result"
    }
   ],
   "source": [
    "out_test"
   ]
  },
  {
   "cell_type": "code",
   "execution_count": 53,
   "id": "c18523d7",
   "metadata": {
    "scrolled": true
   },
   "outputs": [
    {
     "data": {
      "text/html": [
       "<div>\n",
       "<style scoped>\n",
       "    .dataframe tbody tr th:only-of-type {\n",
       "        vertical-align: middle;\n",
       "    }\n",
       "\n",
       "    .dataframe tbody tr th {\n",
       "        vertical-align: top;\n",
       "    }\n",
       "\n",
       "    .dataframe thead th {\n",
       "        text-align: right;\n",
       "    }\n",
       "</style>\n",
       "<table border=\"1\" class=\"dataframe\">\n",
       "  <thead>\n",
       "    <tr style=\"text-align: right;\">\n",
       "      <th></th>\n",
       "      <th>outlook</th>\n",
       "      <th>temp</th>\n",
       "      <th>humidity</th>\n",
       "      <th>wind</th>\n",
       "    </tr>\n",
       "  </thead>\n",
       "  <tbody>\n",
       "    <tr>\n",
       "      <th>0</th>\n",
       "      <td>Sunny</td>\n",
       "      <td>Hot</td>\n",
       "      <td>High</td>\n",
       "      <td>Weak</td>\n",
       "    </tr>\n",
       "    <tr>\n",
       "      <th>9</th>\n",
       "      <td>Rain</td>\n",
       "      <td>Mild</td>\n",
       "      <td>Normal</td>\n",
       "      <td>Weak</td>\n",
       "    </tr>\n",
       "    <tr>\n",
       "      <th>3</th>\n",
       "      <td>Rain</td>\n",
       "      <td>Mild</td>\n",
       "      <td>High</td>\n",
       "      <td>Weak</td>\n",
       "    </tr>\n",
       "    <tr>\n",
       "      <th>5</th>\n",
       "      <td>Rain</td>\n",
       "      <td>Cool</td>\n",
       "      <td>Normal</td>\n",
       "      <td>Strong</td>\n",
       "    </tr>\n",
       "  </tbody>\n",
       "</table>\n",
       "</div>"
      ],
      "text/plain": [
       "  outlook  temp humidity    wind\n",
       "0   Sunny   Hot     High    Weak\n",
       "9    Rain  Mild   Normal    Weak\n",
       "3    Rain  Mild     High    Weak\n",
       "5    Rain  Cool   Normal  Strong"
      ]
     },
     "execution_count": 53,
     "metadata": {},
     "output_type": "execute_result"
    }
   ],
   "source": [
    "inp_test"
   ]
  },
  {
   "cell_type": "code",
   "execution_count": 59,
   "id": "3253a51a",
   "metadata": {},
   "outputs": [
    {
     "data": {
      "text/plain": [
       "array(['No', 'Yes', 'Yes', 'No'], dtype=object)"
      ]
     },
     "execution_count": 59,
     "metadata": {},
     "output_type": "execute_result"
    }
   ],
   "source": [
    "out1=np.array(out_test)\n",
    "out2_test=[]\n",
    "res1=outlook_dict['p(sunny/yes)']*temp_dict['p(hot/yes)']*hum_dict['p(high/yes)']*wind_dict['p(weak/yes)']*yes_prob\n",
    "res2=outlook_dict['p(sunny/no)']*temp_dict['p(hot/no)']*hum_dict['p(high/no)']*wind_dict['p(weak/no)']*no_prob\n",
    "if res1>res2:\n",
    "    out2_test.append('Yes')\n",
    "else:\n",
    "    out2_test.append('No')\n",
    "out1"
   ]
  },
  {
   "cell_type": "code",
   "execution_count": 60,
   "id": "9f297fb4",
   "metadata": {},
   "outputs": [],
   "source": [
    "res1=outlook_dict['p(rainy/yes)']*temp_dict['p(mild/yes)']*hum_dict['p(normal/yes)']*wind_dict['p(weak/yes)']*yes_prob\n",
    "res2=outlook_dict['p(rainy/no)']*temp_dict['p(mild/no)']*hum_dict['p(normal/no)']*wind_dict['p(weak/no)']*no_prob\n",
    "if res1>res2:\n",
    "    out2_test.append('Yes')\n",
    "else:\n",
    "    out2_test.append('No')"
   ]
  },
  {
   "cell_type": "code",
   "execution_count": 61,
   "id": "bd10b131",
   "metadata": {},
   "outputs": [],
   "source": [
    "res1=outlook_dict['p(rainy/yes)']*temp_dict['p(mild/yes)']*hum_dict['p(high/yes)']*wind_dict['p(weak/yes)']*yes_prob\n",
    "res2=outlook_dict['p(rainy/no)']*temp_dict['p(mild/no)']*hum_dict['p(high/no)']*wind_dict['p(weak/no)']*no_prob\n",
    "if res1>res2:\n",
    "    out2_test.append('Yes')\n",
    "else:\n",
    "    out2_test.append('No')"
   ]
  },
  {
   "cell_type": "code",
   "execution_count": 62,
   "id": "23f7d74d",
   "metadata": {},
   "outputs": [],
   "source": [
    "res1=outlook_dict['p(rainy/yes)']*temp_dict['p(cool/yes)']*hum_dict['p(normal/yes)']*wind_dict['p(strong/yes)']*yes_prob\n",
    "res2=outlook_dict['p(rainy/no)']*temp_dict['p(cool/no)']*hum_dict['p(normal/no)']*wind_dict['p(strong/no)']*no_prob\n",
    "if res1>res2:\n",
    "    out2_test.append('Yes')\n",
    "else:\n",
    "    out2_test.append('No')"
   ]
  },
  {
   "cell_type": "code",
   "execution_count": 63,
   "id": "c97f4f13",
   "metadata": {},
   "outputs": [
    {
     "name": "stdout",
     "output_type": "stream",
     "text": [
      "50.0\n"
     ]
    },
    {
     "data": {
      "text/plain": [
       "['No', 'Yes', 'No', 'Yes']"
      ]
     },
     "execution_count": 63,
     "metadata": {},
     "output_type": "execute_result"
    }
   ],
   "source": [
    "count=0\n",
    "for i in range(len(out_test)):\n",
    "    if(out1[i]==out2_test[i]):\n",
    "        count=count+1\n",
    "accuracy=(count/len(out_test))*100\n",
    "print(accuracy)\n",
    "out2_test"
   ]
  },
  {
   "cell_type": "code",
   "execution_count": null,
   "id": "56c204de",
   "metadata": {},
   "outputs": [],
   "source": []
  }
 ],
 "metadata": {
  "kernelspec": {
   "display_name": "Python 3 (ipykernel)",
   "language": "python",
   "name": "python3"
  },
  "language_info": {
   "codemirror_mode": {
    "name": "ipython",
    "version": 3
   },
   "file_extension": ".py",
   "mimetype": "text/x-python",
   "name": "python",
   "nbconvert_exporter": "python",
   "pygments_lexer": "ipython3",
   "version": "3.11.3"
  }
 },
 "nbformat": 4,
 "nbformat_minor": 5
}
